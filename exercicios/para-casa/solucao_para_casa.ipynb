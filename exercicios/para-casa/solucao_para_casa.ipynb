{
 "cells": [
  {
   "cell_type": "markdown",
   "metadata": {},
   "source": [
    "1️⃣ Quantos usuários utilizam a Netflix pelo Tablet?\n"
   ]
  },
  {
   "cell_type": "markdown",
   "metadata": {},
   "source": [
    "2️⃣ Qual é a representatividade (em %) do sistema operacional(device) mais utilizado para assistir Netflix\n"
   ]
  },
  {
   "cell_type": "markdown",
   "metadata": {},
   "source": [
    "3️⃣ Crie visualizações que responda as seguintes perguntas:\n",
    "\n",
    "  🔸Qual é o sistema operacional(device) mais usado para cada faixa etária? Existe algum padrão? O tipo de aparelho muda de acordo com o grupo de idade?\n",
    "  \n",
    "  🔸No Brasil, qual é o sistema operacional mais utilizado? "
   ]
  }
 ],
 "metadata": {
  "language_info": {
   "name": "python"
  }
 },
 "nbformat": 4,
 "nbformat_minor": 2
}
